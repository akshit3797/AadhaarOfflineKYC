{
 "cells": [
  {
   "cell_type": "code",
   "execution_count": 2,
   "metadata": {},
   "outputs": [],
   "source": [
    "from zipfile import ZipFile"
   ]
  },
  {
   "cell_type": "code",
   "execution_count": 8,
   "metadata": {},
   "outputs": [],
   "source": [
    "with ZipFile ('offlineaadhaar20191122041707173.zip','r') as zipObj:\n",
    "    pwd = '3797'.encode('ascii')\n",
    "    zipObj.extractall('temp',pwd = pwd)"
   ]
  },
  {
   "cell_type": "code",
   "execution_count": 9,
   "metadata": {},
   "outputs": [],
   "source": [
    "import xml.etree.ElementTree as ET"
   ]
  },
  {
   "cell_type": "code",
   "execution_count": 12,
   "metadata": {},
   "outputs": [
    {
     "name": "stdout",
     "output_type": "stream",
     "text": [
      "Expertise Data:\n",
      "SQL\n",
      "Python\n",
      "Django\n",
      "Flask\n"
     ]
    }
   ],
   "source": [
    "tree = ET.parse('test.xml')\n",
    "root = tree.getroot()\n",
    "\n",
    "# all items data\n",
    "print('Expertise Data:')\n",
    "\n",
    "for elem in root:\n",
    "   for subelem in elem:\n",
    "      print(subelem.text)"
   ]
  },
  {
   "cell_type": "code",
   "execution_count": 14,
   "metadata": {},
   "outputs": [],
   "source": [
    "tree = ET.parse('temp/offlineaadhaar20191122041707173.xml')"
   ]
  },
  {
   "cell_type": "code",
   "execution_count": 15,
   "metadata": {},
   "outputs": [
    {
     "data": {
      "text/plain": [
       "<xml.etree.ElementTree.ElementTree at 0x7fa2431f4128>"
      ]
     },
     "execution_count": 15,
     "metadata": {},
     "output_type": "execute_result"
    }
   ],
   "source": [
    "tree"
   ]
  },
  {
   "cell_type": "code",
   "execution_count": 18,
   "metadata": {},
   "outputs": [],
   "source": [
    "root = tree.getroot()"
   ]
  },
  {
   "cell_type": "code",
   "execution_count": 30,
   "metadata": {},
   "outputs": [
    {
     "data": {
      "text/plain": [
       "'YomMSbW4DcNVRBAd25HJcufwjVgyUGoRPDoP6TjCucKU9Q3nIjf12Cdz0wzeHbFCXD8kU+NPOhd1\\nW6WWnK0OK6bRpKrGdE1XJz/fJBV17l1B+7fv3Rm1XLihri7X5WpnhV+xI3DADGO5qd1380/+VwNw\\nqKZhqw741kPLR7UoW1chjdv0v2mUk1M8KP1AZqZ1szHi25EXs7TF6JCIzT5VtsdL+UNH4c0eoU36\\n++bYtrDF4ETYDwPSKK+/FOGQLfvutBdV5skgTg/RViereMA1LHlskSOXZrWzqXusDhQy3rO/50OY\\nzyuAo0CMRoHO/GC1E+vnfkNwX5F0YkVCDr7SHA=='"
      ]
     },
     "execution_count": 30,
     "metadata": {},
     "output_type": "execute_result"
    }
   ],
   "source": [
    "root[1][1].text"
   ]
  },
  {
   "cell_type": "code",
   "execution_count": 25,
   "metadata": {},
   "outputs": [
    {
     "name": "stdout",
     "output_type": "stream",
     "text": [
      "Poi\n",
      "Poa\n",
      "Pht\n",
      "{http://www.w3.org/2000/09/xmldsig#}SignedInfo\n",
      "{http://www.w3.org/2000/09/xmldsig#}SignatureValue\n"
     ]
    }
   ],
   "source": [
    "for item in root:\n",
    "    for child in item:\n",
    "        print(child.tag)"
   ]
  },
  {
   "cell_type": "code",
   "execution_count": 32,
   "metadata": {},
   "outputs": [],
   "source": [
    "import base64"
   ]
  },
  {
   "cell_type": "code",
   "execution_count": 33,
   "metadata": {},
   "outputs": [],
   "source": [
    "certificate = open('uidai_offline_publickey_19062019.cer','rb')"
   ]
  },
  {
   "cell_type": "code",
   "execution_count": 34,
   "metadata": {},
   "outputs": [],
   "source": [
    "certificate_read = certificate.read()"
   ]
  },
  {
   "cell_type": "code",
   "execution_count": 39,
   "metadata": {},
   "outputs": [],
   "source": [
    "certificate_encode = base64.encodebytes(certificate_read)"
   ]
  },
  {
   "cell_type": "code",
   "execution_count": 40,
   "metadata": {},
   "outputs": [
    {
     "data": {
      "text/plain": [
       "b'LS0tLS1CRUdJTiBDRVJUSUZJQ0FURS0tLS0tDQpNSUlGK2pDQ0JPS2dBd0lCQWdJRUFOYkkwREFO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\\n'"
      ]
     },
     "execution_count": 40,
     "metadata": {},
     "output_type": "execute_result"
    }
   ],
   "source": [
    "certificate_encode"
   ]
  },
  {
   "cell_type": "code",
   "execution_count": 42,
   "metadata": {},
   "outputs": [
    {
     "name": "stdout",
     "output_type": "stream",
     "text": [
      "Requirement already satisfied: pycrypto in /usr/lib/python3/dist-packages (2.6.1)\n",
      "\u001b[33mWARNING: You are using pip version 19.2.3, however version 19.3.1 is available.\n",
      "You should consider upgrading via the 'pip install --upgrade pip' command.\u001b[0m\n"
     ]
    }
   ],
   "source": [
    "!pip install pycrypto --user"
   ]
  },
  {
   "cell_type": "code",
   "execution_count": 43,
   "metadata": {},
   "outputs": [],
   "source": [
    "import Crypto\n",
    "from Crypto.PublicKey import RSA\n",
    "from Crypto import Random"
   ]
  },
  {
   "cell_type": "code",
   "execution_count": null,
   "metadata": {},
   "outputs": [],
   "source": [
    "certificate_encode.verify()"
   ]
  }
 ],
 "metadata": {
  "kernelspec": {
   "display_name": "Python 3",
   "language": "python",
   "name": "python3"
  },
  "language_info": {
   "codemirror_mode": {
    "name": "ipython",
    "version": 3
   },
   "file_extension": ".py",
   "mimetype": "text/x-python",
   "name": "python",
   "nbconvert_exporter": "python",
   "pygments_lexer": "ipython3",
   "version": "3.6.8"
  }
 },
 "nbformat": 4,
 "nbformat_minor": 2
}
